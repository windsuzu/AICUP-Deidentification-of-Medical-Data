{
 "metadata": {
  "language_info": {
   "codemirror_mode": {
    "name": "ipython",
    "version": 3
   },
   "file_extension": ".py",
   "mimetype": "text/x-python",
   "name": "python",
   "nbconvert_exporter": "python",
   "pygments_lexer": "ipython3",
   "version": "3.7.7-final"
  },
  "orig_nbformat": 2,
  "kernelspec": {
   "name": "python3",
   "display_name": "Python 3",
   "language": "python"
  }
 },
 "nbformat": 4,
 "nbformat_minor": 2,
 "cells": [
  {
   "cell_type": "code",
   "execution_count": null,
   "metadata": {},
   "outputs": [],
   "source": [
    "from pathlib import Path\n",
    "\n",
    "ROOT_PATH = Path.cwd().parent.parent\n",
    "\n",
    "RAW_TRAIN_DATA_PATH = \"dataset/raw_data/train.txt\"\n",
    "RAW_TEST_DATA_PATH = \"dataset/raw_data/test.txt\"\n",
    "\n",
    "TRAIN_DATA_PATH = \"dataset/ner_data/train.data\"\n",
    "TEST_DATA_PATH = \"dataset/ner_data/test.data\"\n",
    "\n",
    "TRAIN_GRAINED_DATA_PATH = \"dataset/ner_data/train_grained.data\"\n",
    "TEST_GRAINED_DATA_PATH = \"dataset/ner_data/test_grained.data\"\n",
    "\n",
    "MODEL = [\n",
    "    \"CRF\",\n",
    "    \"SVM\",\n",
    "    \"PYTORCH_CRF\",\n",
    "    \"BILSTM_CRF\",\n",
    "    \"BERT_CRF\",\n",
    "    \"BERT_BILSTM_CRF\"\n",
    "]\n",
    "\n",
    "MODEL_SELECT = 3\n",
    "\n",
    "%set_env PYTHONPATH=$ROOT_PATH"
   ]
  },
  {
   "cell_type": "code",
   "execution_count": null,
   "metadata": {},
   "outputs": [],
   "source": [
    "# Generate train, test NER format Data\n",
    "\n",
    "!python data_generator.py \\\n",
    "            --RAW_TRAIN_DATA_PATH=$ROOT_PATH/$TRAIN_DATA_PATH \\\n",
    "            --RAW_TEST_DATA_PATH=$ROOT_PATH/$TEST_DATA_PATH \\\n",
    "            --TRAIN_DATA_PATH=$ROOT_PATH/$TRAIN_GRAINED_DATA_PATH \\\n",
    "            --TEST_DATA_PATH=$ROOT_PATH/$TEST_GRAINED_DATA_PATH \\\n",
    "            --OUTPUT_TYPE=split\n"
   ]
  },
  {
   "source": [
    "# Preprocess and generate trainable datasets\n",
    "\n",
    "!python data_preprocessor.py \\\n",
    "            --TRAIN_DATA_PATH=$ROOT_PATH/$TRAIN_GRAINED_DATA_PATH \\\n",
    "            --TEST_DATA_PATH=$ROOT_PATH/$TEST_GRAINED_DATA_PATH \\\n",
    "            --RAW_TEST_DATA_PATH=$ROOT_PATH/$RAW_TEST_DATA_PATH \\\n",
    "            --MODEL_DATA_PATH=$ROOT_PATH/model/{MODEL[MODEL_SELECT]}/data/\n"
   ],
   "cell_type": "code",
   "metadata": {},
   "execution_count": null,
   "outputs": []
  },
  {
   "cell_type": "code",
   "execution_count": null,
   "metadata": {},
   "outputs": [],
   "source": [
    "# Tokenize and training process, use the dataset pickled from data_preprocessor\n",
    "\n",
    "!python ner_trainer.py \\\n",
    "            --MODEL={MODEL[MODEL_SELECT]} \\\n",
    "            --TRAIN_DATA_PATH=$ROOT_PATH/$TRAIN_GRAINED_DATA_PATH \\\n",
    "            --MODEL_DATA_PATH=$ROOT_PATH/model/{MODEL[MODEL_SELECT]}/data/ \\\n",
    "            --MODEL_CHECKPOINT_PATH=$ROOT_PATH/model/{MODEL[MODEL_SELECT]}/checkpoint/ \\\n",
    "            --CHECKPOINT_KEEP=3 \\\n",
    "            --SENTENCE_MAX_LENGTH=32 \\\n",
    "            --BATCH_SIZE=16 \\\n",
    "            --EMBEDDING_SIZE=300 \\\n",
    "            --HIIDEN_NUMS=512 \\\n",
    "            --EPOCHS=1 \\\n",
    "            --LEARNING_RATE=1e-3\n"
   ]
  },
  {
   "cell_type": "code",
   "execution_count": null,
   "metadata": {
    "tags": []
   },
   "outputs": [],
   "source": [
    "# Predicting process and export the results, use the model generated from training checkpoints \n",
    "\n",
    "!python ner_predictor.py \\\n",
    "            --MODEL={MODEL[MODEL_SELECT]} \\\n",
    "            --MODEL_DATA_PATH=$ROOT_PATH/model/{MODEL[MODEL_SELECT]}/data/ \\\n",
    "            --MODEL_CHECKPOINT_PATH=$ROOT_PATH/model/{MODEL[MODEL_SELECT]}/checkpoint/ \\\n",
    "            --MODEL_OUTPUT_PATH=$ROOT_PATH/model/{MODEL[MODEL_SELECT]}/output/ \\\n",
    "            --EMBEDDING_SIZE=300 \\\n",
    "            --HIIDEN_NUMS=512 \\\n",
    "            --LEARNING_RATE=1e-3\n"
   ]
  },
  {
   "cell_type": "code",
   "execution_count": null,
   "metadata": {},
   "outputs": [],
   "source": []
  }
 ]
}